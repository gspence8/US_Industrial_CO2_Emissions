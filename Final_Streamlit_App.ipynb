{
 "cells": [
  {
   "cell_type": "code",
   "execution_count": 2,
   "metadata": {},
   "outputs": [],
   "source": [
    "import pandas as pd\n",
    "import altair as alt\n",
    "import seaborn as sb \n",
    "import matplotlib.pyplot as plt\n",
    "import streamlit as st\n"
   ]
  },
  {
   "cell_type": "code",
   "execution_count": 10,
   "metadata": {},
   "outputs": [],
   "source": [
    "alt.data_transformers.disable_max_rows()\n",
    "\n",
    "# Load traffic stops data and create a dataframe called stops\n",
    "# and check the columns and their types\n",
    "industrial = pd.read_csv('Midterm_Industrial_Data.csv')\n",
    "industrial.head()\n",
    "\n",
    "industrial['State'] = industrial['State'].astype(str)\n",
    "industrial_cleaned = industrial.dropna(subset=['US Total', 'State Total Emissions Count'])\n",
    "#industrial['State Total Year'] = pd.to_datetime(industrial['State Total Year'], format='%Y')\n"
   ]
  },
  {
   "cell_type": "code",
   "execution_count": 11,
   "metadata": {},
   "outputs": [
    {
     "data": {
      "text/html": [
       "\n",
       "<style>\n",
       "  #altair-viz-11cdb4a0eb0e4de09a346f1ab1fdfe64.vega-embed {\n",
       "    width: 100%;\n",
       "    display: flex;\n",
       "  }\n",
       "\n",
       "  #altair-viz-11cdb4a0eb0e4de09a346f1ab1fdfe64.vega-embed details,\n",
       "  #altair-viz-11cdb4a0eb0e4de09a346f1ab1fdfe64.vega-embed details summary {\n",
       "    position: relative;\n",
       "  }\n",
       "</style>\n",
       "<div id=\"altair-viz-11cdb4a0eb0e4de09a346f1ab1fdfe64\"></div>\n",
       "<script type=\"text/javascript\">\n",
       "  var VEGA_DEBUG = (typeof VEGA_DEBUG == \"undefined\") ? {} : VEGA_DEBUG;\n",
       "  (function(spec, embedOpt){\n",
       "    let outputDiv = document.currentScript.previousElementSibling;\n",
       "    if (outputDiv.id !== \"altair-viz-11cdb4a0eb0e4de09a346f1ab1fdfe64\") {\n",
       "      outputDiv = document.getElementById(\"altair-viz-11cdb4a0eb0e4de09a346f1ab1fdfe64\");\n",
       "    }\n",
       "    const paths = {\n",
       "      \"vega\": \"https://cdn.jsdelivr.net/npm/vega@5?noext\",\n",
       "      \"vega-lib\": \"https://cdn.jsdelivr.net/npm/vega-lib?noext\",\n",
       "      \"vega-lite\": \"https://cdn.jsdelivr.net/npm/vega-lite@5.16.3?noext\",\n",
       "      \"vega-embed\": \"https://cdn.jsdelivr.net/npm/vega-embed@6?noext\",\n",
       "    };\n",
       "\n",
       "    function maybeLoadScript(lib, version) {\n",
       "      var key = `${lib.replace(\"-\", \"\")}_version`;\n",
       "      return (VEGA_DEBUG[key] == version) ?\n",
       "        Promise.resolve(paths[lib]) :\n",
       "        new Promise(function(resolve, reject) {\n",
       "          var s = document.createElement('script');\n",
       "          document.getElementsByTagName(\"head\")[0].appendChild(s);\n",
       "          s.async = true;\n",
       "          s.onload = () => {\n",
       "            VEGA_DEBUG[key] = version;\n",
       "            return resolve(paths[lib]);\n",
       "          };\n",
       "          s.onerror = () => reject(`Error loading script: ${paths[lib]}`);\n",
       "          s.src = paths[lib];\n",
       "        });\n",
       "    }\n",
       "\n",
       "    function showError(err) {\n",
       "      outputDiv.innerHTML = `<div class=\"error\" style=\"color:red;\">${err}</div>`;\n",
       "      throw err;\n",
       "    }\n",
       "\n",
       "    function displayChart(vegaEmbed) {\n",
       "      vegaEmbed(outputDiv, spec, embedOpt)\n",
       "        .catch(err => showError(`Javascript Error: ${err.message}<br>This usually means there's a typo in your chart specification. See the javascript console for the full traceback.`));\n",
       "    }\n",
       "\n",
       "    if(typeof define === \"function\" && define.amd) {\n",
       "      requirejs.config({paths});\n",
       "      require([\"vega-embed\"], displayChart, err => showError(`Error loading script: ${err.message}`));\n",
       "    } else {\n",
       "      maybeLoadScript(\"vega\", \"5\")\n",
       "        .then(() => maybeLoadScript(\"vega-lite\", \"5.16.3\"))\n",
       "        .then(() => maybeLoadScript(\"vega-embed\", \"6\"))\n",
       "        .catch(showError)\n",
       "        .then(() => displayChart(vegaEmbed));\n",
       "    }\n",
       "  })({\"config\": {\"view\": {\"continuousWidth\": 300, \"continuousHeight\": 300}}, \"data\": {\"name\": \"data-9c2c4fe72fef8d8d9787dc770a405a9c\"}, \"mark\": {\"type\": \"circle\", \"size\": 60}, \"encoding\": {\"x\": {\"field\": \"US Total\", \"title\": \"US Total Year\", \"type\": \"nominal\"}, \"y\": {\"field\": \"State Total Emissions Count\", \"title\": \"Total Emissions Mmt\", \"type\": \"nominal\"}}, \"height\": 500, \"width\": 800, \"$schema\": \"https://vega.github.io/schema/vega-lite/v5.16.3.json\", \"datasets\": {\"data-9c2c4fe72fef8d8d9787dc770a405a9c\": [{\"State\": \"Alabama\", \"Year\": 1970, \"CO2 Emissions by million metric tons\": 39.24, \"US Total\": \"US Total 1970\", \"State Total Year\": 1970.0, \"State Total Emissions Count\": \"1,321.59\"}, {\"State\": \"Alabama\", \"Year\": 1971, \"CO2 Emissions by million metric tons\": 36.62, \"US Total\": \"US Total 1971\", \"State Total Year\": 1971.0, \"State Total Emissions Count\": \"1,274.84\"}, {\"State\": \"Alabama\", \"Year\": 1972, \"CO2 Emissions by million metric tons\": 38.64, \"US Total\": \"US Total 1972\", \"State Total Year\": 1972.0, \"State Total Emissions Count\": \"1,315.51\"}, {\"State\": \"Alabama\", \"Year\": 1973, \"CO2 Emissions by million metric tons\": 37.39, \"US Total\": \"US Total 1973\", \"State Total Year\": 1973.0, \"State Total Emissions Count\": \"1,372.81\"}, {\"State\": \"Alabama\", \"Year\": 1974, \"CO2 Emissions by million metric tons\": 36.75, \"US Total\": \"US Total 1974\", \"State Total Year\": 1974.0, \"State Total Emissions Count\": \"1,305.91\"}, {\"State\": \"Alabama\", \"Year\": 1975, \"CO2 Emissions by million metric tons\": 36.91, \"US Total\": \"US Total 1975\", \"State Total Year\": 1975.0, \"State Total Emissions Count\": \"1,192.10\"}, {\"State\": \"Alabama\", \"Year\": 1976, \"CO2 Emissions by million metric tons\": 34.6, \"US Total\": \"US Total 1976\", \"State Total Year\": 1976.0, \"State Total Emissions Count\": \"1,249.16\"}, {\"State\": \"Alabama\", \"Year\": 1977, \"CO2 Emissions by million metric tons\": 34.17, \"US Total\": \"US Total 1977\", \"State Total Year\": 1977.0, \"State Total Emissions Count\": \"1,266.24\"}, {\"State\": \"Alabama\", \"Year\": 1978, \"CO2 Emissions by million metric tons\": 32.46, \"US Total\": \"US Total 1978\", \"State Total Year\": 1978.0, \"State Total Emissions Count\": \"1,242.78\"}, {\"State\": \"Alabama\", \"Year\": 1979, \"CO2 Emissions by million metric tons\": 37.27, \"US Total\": \"US Total 1979\", \"State Total Year\": 1979.0, \"State Total Emissions Count\": \"1,284.99\"}, {\"State\": \"Alabama\", \"Year\": 1980, \"CO2 Emissions by million metric tons\": 31.46, \"US Total\": \"US Total 1980\", \"State Total Year\": 1980.0, \"State Total Emissions Count\": \"1,172.21\"}, {\"State\": \"Alabama\", \"Year\": 1981, \"CO2 Emissions by million metric tons\": 29.09, \"US Total\": \"US Total 1981\", \"State Total Year\": 1981.0, \"State Total Emissions Count\": \"1,096.01\"}, {\"State\": \"Alabama\", \"Year\": 1982, \"CO2 Emissions by million metric tons\": 25.98, \"US Total\": \"US Total 1982\", \"State Total Year\": 1982.0, \"State Total Emissions Count\": \"965.16\"}, {\"State\": \"Alabama\", \"Year\": 1983, \"CO2 Emissions by million metric tons\": 21.73, \"US Total\": \"US Total 1983\", \"State Total Year\": 1983.0, \"State Total Emissions Count\": \"923.24\"}, {\"State\": \"Alabama\", \"Year\": 1984, \"CO2 Emissions by million metric tons\": 25.06, \"US Total\": \"US Total 1984\", \"State Total Year\": 1984.0, \"State Total Emissions Count\": \"1,016.70\"}, {\"State\": \"Alabama\", \"Year\": 1985, \"CO2 Emissions by million metric tons\": 23.07, \"US Total\": \"US Total 1985\", \"State Total Year\": 1985.0, \"State Total Emissions Count\": \"971.38\"}, {\"State\": \"Alabama\", \"Year\": 1986, \"CO2 Emissions by million metric tons\": 21.9, \"US Total\": \"US Total 1986\", \"State Total Year\": 1986.0, \"State Total Emissions Count\": \"947.18\"}, {\"State\": \"Alabama\", \"Year\": 1987, \"CO2 Emissions by million metric tons\": 23.61, \"US Total\": \"US Total 1987\", \"State Total Year\": 1987.0, \"State Total Emissions Count\": \"978.27\"}, {\"State\": \"Alabama\", \"Year\": 1988, \"CO2 Emissions by million metric tons\": 26.06, \"US Total\": \"US Total 1988\", \"State Total Year\": 1988.0, \"State Total Emissions Count\": \"1,031.01\"}, {\"State\": \"Alabama\", \"Year\": 1989, \"CO2 Emissions by million metric tons\": 24.64, \"US Total\": \"US Total 1989\", \"State Total Year\": 1989.0, \"State Total Emissions Count\": \"1,031.74\"}, {\"State\": \"Alabama\", \"Year\": 1990, \"CO2 Emissions by million metric tons\": 24.65, \"US Total\": \"US Total 1990\", \"State Total Year\": 1990.0, \"State Total Emissions Count\": \"1,055.52\"}, {\"State\": \"Alabama\", \"Year\": 1991, \"CO2 Emissions by million metric tons\": 24.87, \"US Total\": \"US Total 1991\", \"State Total Year\": 1991.0, \"State Total Emissions Count\": \"1,022.25\"}, {\"State\": \"Alabama\", \"Year\": 1992, \"CO2 Emissions by million metric tons\": 27.89, \"US Total\": \"US Total 1992\", \"State Total Year\": 1992.0, \"State Total Emissions Count\": \"1,070.47\"}, {\"State\": \"Alabama\", \"Year\": 1993, \"CO2 Emissions by million metric tons\": 26.48, \"US Total\": \"US Total 1993\", \"State Total Year\": 1993.0, \"State Total Emissions Count\": \"1,062.32\"}, {\"State\": \"Alabama\", \"Year\": 1994, \"CO2 Emissions by million metric tons\": 27.39, \"US Total\": \"US Total 1994\", \"State Total Year\": 1994.0, \"State Total Emissions Count\": \"1,076.32\"}, {\"State\": \"Alabama\", \"Year\": 1995, \"CO2 Emissions by million metric tons\": 28.09, \"US Total\": \"US Total 1995\", \"State Total Year\": 1995.0, \"State Total Emissions Count\": \"1,087.69\"}, {\"State\": \"Alabama\", \"Year\": 1996, \"CO2 Emissions by million metric tons\": 29.03, \"US Total\": \"US Total 1996\", \"State Total Year\": 1996.0, \"State Total Emissions Count\": \"1,125.97\"}, {\"State\": \"Alabama\", \"Year\": 1997, \"CO2 Emissions by million metric tons\": 28.25, \"US Total\": \"US Total 1997\", \"State Total Year\": 1997.0, \"State Total Emissions Count\": \"1,129.09\"}, {\"State\": \"Alabama\", \"Year\": 1998, \"CO2 Emissions by million metric tons\": 25.75, \"US Total\": \"US Total 1998\", \"State Total Year\": 1998.0, \"State Total Emissions Count\": \"1,088.94\"}, {\"State\": \"Alabama\", \"Year\": 1999, \"CO2 Emissions by million metric tons\": 25.91, \"US Total\": \"US Total 1999\", \"State Total Year\": 1999.0, \"State Total Emissions Count\": \"1,071.37\"}, {\"State\": \"Alabama\", \"Year\": 2000, \"CO2 Emissions by million metric tons\": 25.29, \"US Total\": \"US Total 2000\", \"State Total Year\": 2000.0, \"State Total Emissions Count\": \"1,065.49\"}, {\"State\": \"Alabama\", \"Year\": 2001, \"CO2 Emissions by million metric tons\": 21.58, \"US Total\": \"US Total 2001\", \"State Total Year\": 2001.0, \"State Total Emissions Count\": \"1,043.81\"}, {\"State\": \"Alabama\", \"Year\": 2002, \"CO2 Emissions by million metric tons\": 21.42, \"US Total\": \"US Total 2002\", \"State Total Year\": 2002.0, \"State Total Emissions Count\": \"1,026.49\"}, {\"State\": \"Alabama\", \"Year\": 2003, \"CO2 Emissions by million metric tons\": 22.78, \"US Total\": \"US Total 2003\", \"State Total Year\": 2003.0, \"State Total Emissions Count\": \"1,020.67\"}, {\"State\": \"Alabama\", \"Year\": 2004, \"CO2 Emissions by million metric tons\": 23.23, \"US Total\": \"US Total 2004\", \"State Total Year\": 2004.0, \"State Total Emissions Count\": \"1,050.76\"}, {\"State\": \"Alabama\", \"Year\": 2005, \"CO2 Emissions by million metric tons\": 21.84, \"US Total\": \"US Total 2005\", \"State Total Year\": 2005.0, \"State Total Emissions Count\": \"1,008.15\"}, {\"State\": \"Alabama\", \"Year\": 2006, \"CO2 Emissions by million metric tons\": 21.15, \"US Total\": \"US Total 2006\", \"State Total Year\": 2006.0, \"State Total Emissions Count\": \"1,011.11\"}, {\"State\": \"Alabama\", \"Year\": 2007, \"CO2 Emissions by million metric tons\": 20.49, \"US Total\": \"US Total 2007\", \"State Total Year\": 2007.0, \"State Total Emissions Count\": \"1,002.14\"}, {\"State\": \"Alabama\", \"Year\": 2008, \"CO2 Emissions by million metric tons\": 20.11, \"US Total\": \"US Total 2008\", \"State Total Year\": 2008.0, \"State Total Emissions Count\": \"966.84\"}, {\"State\": \"Alabama\", \"Year\": 2009, \"CO2 Emissions by million metric tons\": 16.43, \"US Total\": \"US Total 2009\", \"State Total Year\": 2009.0, \"State Total Emissions Count\": \"854.37\"}, {\"State\": \"Alabama\", \"Year\": 2010, \"CO2 Emissions by million metric tons\": 17.82, \"US Total\": \"US Total 2010\", \"State Total Year\": 2010.0, \"State Total Emissions Count\": \"921.41\"}, {\"State\": \"Alabama\", \"Year\": 2011, \"CO2 Emissions by million metric tons\": 18.19, \"US Total\": \"US Total 2011\", \"State Total Year\": 2011.0, \"State Total Emissions Count\": \"924.61\"}, {\"State\": \"Alabama\", \"Year\": 2012, \"CO2 Emissions by million metric tons\": 20.23, \"US Total\": \"US Total 2012\", \"State Total Year\": 2012.0, \"State Total Emissions Count\": \"936.52\"}, {\"State\": \"Alabama\", \"Year\": 2013, \"CO2 Emissions by million metric tons\": 20.31, \"US Total\": \"US Total 2013\", \"State Total Year\": 2013.0, \"State Total Emissions Count\": \"958.15\"}, {\"State\": \"Alabama\", \"Year\": 2014, \"CO2 Emissions by million metric tons\": 21.38, \"US Total\": \"US Total 2014\", \"State Total Year\": 2014.0, \"State Total Emissions Count\": \"969.19\"}, {\"State\": \"Alabama\", \"Year\": 2015, \"CO2 Emissions by million metric tons\": 20.21, \"US Total\": \"US Total 2015\", \"State Total Year\": 2015.0, \"State Total Emissions Count\": \"950.5\"}, {\"State\": \"Alabama\", \"Year\": 2016, \"CO2 Emissions by million metric tons\": 20.28, \"US Total\": \"US Total 2016\", \"State Total Year\": 2016.0, \"State Total Emissions Count\": \"948.61\"}, {\"State\": \"Alabama\", \"Year\": 2017, \"CO2 Emissions by million metric tons\": 20.08, \"US Total\": \"US Total 2017\", \"State Total Year\": 2017.0, \"State Total Emissions Count\": \"967.85\"}, {\"State\": \"Alabama\", \"Year\": 2018, \"CO2 Emissions by million metric tons\": 20.94, \"US Total\": \"US Total 2018\", \"State Total Year\": 2018.0, \"State Total Emissions Count\": \"1,004.82\"}, {\"State\": \"Alabama\", \"Year\": 2019, \"CO2 Emissions by million metric tons\": 19.67, \"US Total\": \"US Total 2019\", \"State Total Year\": 2019.0, \"State Total Emissions Count\": \"1,006.64\"}, {\"State\": \"Alabama\", \"Year\": 2020, \"CO2 Emissions by million metric tons\": 18.13, \"US Total\": \"US Total 2020\", \"State Total Year\": 2020.0, \"State Total Emissions Count\": \"949.06\"}, {\"State\": \"Alabama\", \"Year\": 2021, \"CO2 Emissions by million metric tons\": 19.64, \"US Total\": \"US Total 2021\", \"State Total Year\": 2021.0, \"State Total Emissions Count\": \"980.18\"}]}}, {\"mode\": \"vega-lite\"});\n",
       "</script>"
      ],
      "text/plain": [
       "alt.Chart(...)"
      ]
     },
     "execution_count": 11,
     "metadata": {},
     "output_type": "execute_result"
    }
   ],
   "source": [
    "line_chart = alt.Chart(industrial_cleaned).mark_circle(size=60).encode(\n",
    "    x=alt.X('US Total', title='US Total Year'),\n",
    "    y=alt.Y('State Total Emissions Count', title='Total Emissions Mmt'),\n",
    "#    tooltip=['State Total Year', 'State Total Emissions Count']\n",
    ").properties(\n",
    "    width=800,\n",
    "    height=500\n",
    ")\n",
    "\n",
    "line_chart"
   ]
  },
  {
   "cell_type": "code",
   "execution_count": 8,
   "metadata": {},
   "outputs": [
    {
     "name": "stdout",
     "output_type": "stream",
     "text": [
      "State                                      0\n",
      "Year                                       0\n",
      "CO2 Emissions by million metric tons       0\n",
      "US Total                                2600\n",
      "State Total Year                        2600\n",
      "State Total Emissions Count             2600\n",
      "dtype: int64\n"
     ]
    }
   ],
   "source": [
    "print(industrial.isnull().sum())"
   ]
  }
 ],
 "metadata": {
  "kernelspec": {
   "display_name": ".venv",
   "language": "python",
   "name": "python3"
  },
  "language_info": {
   "codemirror_mode": {
    "name": "ipython",
    "version": 3
   },
   "file_extension": ".py",
   "mimetype": "text/x-python",
   "name": "python",
   "nbconvert_exporter": "python",
   "pygments_lexer": "ipython3",
   "version": "3.10.11"
  }
 },
 "nbformat": 4,
 "nbformat_minor": 2
}
